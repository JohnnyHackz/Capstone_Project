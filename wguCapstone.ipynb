{
  "cells": [
    {
      "cell_type": "markdown",
      "metadata": {
        "id": "view-in-github",
        "colab_type": "text"
      },
      "source": [
        "<a href=\"https://colab.research.google.com/github/JohnnyHackz/Capstone_Project/blob/main/wguCapstone.ipynb\" target=\"_parent\"><img src=\"https://colab.research.google.com/assets/colab-badge.svg\" alt=\"Open In Colab\"/></a>"
      ]
    },
    {
      "cell_type": "code",
      "source": [
        "from google.colab import drive\n",
        "drive.mount('/content/drive')"
      ],
      "metadata": {
        "colab": {
          "base_uri": "https://localhost:8080/"
        },
        "id": "__HwEblJj0fh",
        "outputId": "f80ab962-9549-4d2b-f70c-817fce133f97"
      },
      "id": "__HwEblJj0fh",
      "execution_count": null,
      "outputs": [
        {
          "output_type": "stream",
          "name": "stdout",
          "text": [
            "Drive already mounted at /content/drive; to attempt to forcibly remount, call drive.mount(\"/content/drive\", force_remount=True).\n"
          ]
        }
      ]
    },
    {
      "cell_type": "code",
      "execution_count": 22,
      "id": "46cadd42-6b21-4e44-8f6d-d6b1d9f7e912",
      "metadata": {
        "colab": {
          "base_uri": "https://localhost:8080/"
        },
        "id": "46cadd42-6b21-4e44-8f6d-d6b1d9f7e912",
        "outputId": "73c5b1bd-6e50-4451-817c-fe4d5bb68722"
      },
      "outputs": [
        {
          "output_type": "stream",
          "name": "stdout",
          "text": [
            "Index(['label', 'text'], dtype='object')\n"
          ]
        }
      ],
      "source": [
        "# Importing necessary libraries\n",
        "from sklearn.model_selection import train_test_split\n",
        "from sklearn.feature_extraction.text import CountVectorizer\n",
        "from sklearn.naive_bayes import MultinomialNB\n",
        "from sklearn.metrics import classification_report\n",
        "from sklearn.pipeline import make_pipeline\n",
        "import pandas as pd\n",
        "import ipywidgets as widgets\n",
        "from IPython.display import display\n",
        "\n",
        "# Load the dataset\n",
        "data = pd.read_csv('/content/drive/MyDrive/Colab Notebooks/combined_data.csv')\n",
        "print(data.columns)"
      ]
    },
    {
      "cell_type": "code",
      "execution_count": null,
      "id": "0ea1a4eb-f5f5-40d2-8844-47b38a059ffe",
      "metadata": {
        "id": "0ea1a4eb-f5f5-40d2-8844-47b38a059ffe",
        "colab": {
          "base_uri": "https://localhost:8080/",
          "height": 457,
          "referenced_widgets": [
            "ed060ef9d5684cc8b037c87a00ee7e00",
            "0367198da1294c4782c2709cb9746c8a",
            "68588bdd7cb444c98937d37f0b9076a1",
            "bdd6b47e2ee7488ea7827a1c4e4933dc",
            "8803d752b9eb4993b91bb8ce7a2136a6",
            "a571abfe939544ea83baa450baa690f3",
            "d4fd990ef25840888aac97f9da591455",
            "d04f5e3d745d4109a077951d292ed5f6",
            "6742aa80f4ce459dbd0fe655dac9eb4e"
          ]
        },
        "outputId": "d20d1c52-f464-4b94-8663-d82097af9535"
      },
      "outputs": [
        {
          "output_type": "stream",
          "name": "stdout",
          "text": [
            "Classification Report:\n",
            "               precision    recall  f1-score   support\n",
            "\n",
            "           0       0.96      0.99      0.98      7938\n",
            "           1       0.99      0.97      0.98      8752\n",
            "\n",
            "    accuracy                           0.98     16690\n",
            "   macro avg       0.98      0.98      0.98     16690\n",
            "weighted avg       0.98      0.98      0.98     16690\n",
            "\n"
          ]
        },
        {
          "output_type": "display_data",
          "data": {
            "text/plain": [
              "Textarea(value='', layout=Layout(height='200px', width='400px'), placeholder='Type or paste the email content …"
            ],
            "application/vnd.jupyter.widget-view+json": {
              "version_major": 2,
              "version_minor": 0,
              "model_id": "ed060ef9d5684cc8b037c87a00ee7e00"
            }
          },
          "metadata": {}
        },
        {
          "output_type": "display_data",
          "data": {
            "text/plain": [
              "Button(button_style='info', description='Classify Email', style=ButtonStyle())"
            ],
            "application/vnd.jupyter.widget-view+json": {
              "version_major": 2,
              "version_minor": 0,
              "model_id": "bdd6b47e2ee7488ea7827a1c4e4933dc"
            }
          },
          "metadata": {}
        },
        {
          "output_type": "display_data",
          "data": {
            "text/plain": [
              "Label(value='')"
            ],
            "application/vnd.jupyter.widget-view+json": {
              "version_major": 2,
              "version_minor": 0,
              "model_id": "d4fd990ef25840888aac97f9da591455"
            }
          },
          "metadata": {}
        }
      ],
      "source": [
        "# Splitting the dataset into features and labels\n",
        "X = data['text']\n",
        "y = data['label']\n",
        "\n",
        "# Splitting the data into training and testing sets\n",
        "X_train, X_test, y_train, y_test = train_test_split(X, y, test_size=0.2, random_state=42)\n",
        "\n",
        "# Creating a text processing and model pipeline\n",
        "model = make_pipeline(CountVectorizer(), MultinomialNB())\n",
        "\n",
        "# Training the model\n",
        "model.fit(X_train, y_train)\n",
        "\n",
        "# Evaluating the model\n",
        "y_pred = model.predict(X_test)\n",
        "print(\"Classification Report:\\n\", classification_report(y_test, y_pred))\n",
        "\n",
        "\n",
        "def classify_email_and_suggest_action():\n",
        "    user_input = text_area.value\n",
        "    if user_input:  # Check if the input is not empty\n",
        "        prediction = model.predict([user_input])\n",
        "        if prediction[0] == 1:  # Assuming 1 is for spam\n",
        "            result = 'Spam'\n",
        "            action_suggestion = \"Suggested action: Delete the email, move it to the spam folder, or block the sender.\"\n",
        "        else:  # Assuming any other prediction is for not-spam\n",
        "            result = 'Not Spam'\n",
        "            action_suggestion = \"Suggested action: Reply to the email or archive it for future reference.\"\n",
        "    else:\n",
        "        print(\"Please input email contents. Thank you.\")\n",
        "        return  # Exit the function if there's no input\n",
        "\n",
        "    output_label.value = f'The email is classified as: {result}\\n{action_suggestion}'\n",
        "    print(output_label.value)\n",
        "\n",
        "\n",
        "# Creating UI elements for user input and classification\n",
        "text_area = widgets.Textarea(placeholder='Type or paste the email content here...', layout={'width': '400px', 'height': '200px'})\n",
        "classify_button = widgets.Button(description='Classify Email', button_style='info')\n",
        "output_label = widgets.Label()\n",
        "\n",
        "# Event handling\n",
        "classify_button.on_click(lambda x: classify_email_and_suggest_action())\n",
        "\n",
        "# Display UI\n",
        "display(text_area, classify_button, output_label)"
      ]
    },
    {
      "cell_type": "code",
      "execution_count": null,
      "id": "82e19ecb-8f0d-45cc-85b0-0d5a758e198b",
      "metadata": {
        "id": "82e19ecb-8f0d-45cc-85b0-0d5a758e198b",
        "colab": {
          "base_uri": "https://localhost:8080/",
          "height": 255
        },
        "outputId": "3a32621e-68db-4057-f94f-2edb510fb78a"
      },
      "outputs": [
        {
          "output_type": "display_data",
          "data": {
            "text/plain": [
              "<Figure size 800x600 with 1 Axes>"
            ],
            "image/png": "[encoded data removed]"
          },
          "metadata": {}
        }
      ],
      "source": [
        "import matplotlib.pyplot as plt\n",
        "from sklearn.metrics import confusion_matrix\n",
        "import seaborn as sb\n",
        "\n",
        "# Visualization 1: Bar Chart of Email Categories\n",
        "def plot_email_distribution():\n",
        "    plt.figure(figsize=(8, 6))\n",
        "    data['label'].value_counts().plot(kind='bar')\n",
        "    plt.title('Distribution of Emails (Spam vs Non-Spam)')\n",
        "    plt.xlabel('Category')\n",
        "    plt.ylabel('Count')\n",
        "    plt.show()\n",
        "\n",
        "plot_email_distribution()"
      ]
    },
    {
      "cell_type": "code",
      "source": [
        "# Visualization 2: Confusion Matrix Heatmap\n",
        "def plot_confusion_matrix():\n",
        "    y_pred = model.predict(X_test)\n",
        "    conf_mat = confusion_matrix(y_test, y_pred)\n",
        "\n",
        "    plt.figure(figsize=(8, 6))\n",
        "    sb.heatmap(conf_mat, annot=True, fmt='d', cmap='Blues')\n",
        "    plt.title('Confusion Matrix')\n",
        "    plt.xlabel('Predicted')\n",
        "    plt.ylabel('Actual')\n",
        "    plt.show()\n",
        "\n",
        "\n",
        "plot_confusion_matrix()\n"
      ],
      "metadata": {
        "colab": {
          "base_uri": "https://localhost:8080/",
          "height": 277
        },
        "id": "qfW_dpTIpZl1",
        "outputId": "7a7cc836-24c5-4f51-a694-9830d5e09350"
      },
      "id": "qfW_dpTIpZl1",
      "execution_count": null,
      "outputs": [
        {
          "output_type": "display_data",
          "data": {
            "text/plain": [
              "<Figure size 800x600 with 2 Axes>"
            ],
            "image/png": "[encoded data removed]"
          },
          "metadata": {}
        }
      ]
    },
    {
      "cell_type": "code",
      "source": [
        "# Visualization 3: Histogram of Email Lengths\n",
        "def plot_email_length_histogram(label):\n",
        "    # Extracting email messages based on label\n",
        "    emails = data[data['label'] == label]['text']\n",
        "\n",
        "    # Calculate length of each email\n",
        "    email_lengths = emails.apply(lambda x: len(x.split()))\n",
        "\n",
        "    plt.figure(figsize=(8, 6))\n",
        "    plt.hist(email_lengths, bins=30, color='skyblue', edgecolor='black')\n",
        "    plt.title(f'Distribution of {\"Spam\" if label == 1 else \"Non-Spam\"} Email Lengths')\n",
        "    plt.xlabel('Number of Words')\n",
        "    plt.ylabel('Frequency')\n",
        "    plt.show()\n",
        "\n",
        "def plot_combined_email_length_histogram():\n",
        "    # Extracting email messages for both categories\n",
        "    spam_emails = data[data['label'] == 1]['text']\n",
        "    non_spam_emails = data[data['label'] == 0]['text']\n",
        "\n",
        "    # Calculate length of each email\n",
        "    spam_lengths = spam_emails.apply(lambda x: len(x.split()))\n",
        "    non_spam_lengths = non_spam_emails.apply(lambda x: len(x.split()))\n",
        "\n",
        "    plt.figure(figsize=(10, 6))\n",
        "\n",
        "    # Plotting both histograms\n",
        "    plt.hist(spam_lengths, bins=30, color='red', alpha=0.7, label='Spam')\n",
        "    plt.hist(non_spam_lengths, bins=30, color='green', alpha=0.7, label='Non-Spam')\n",
        "\n",
        "    plt.title('Distribution of Email Lengths (Spam vs Non-Spam)')\n",
        "    plt.xlabel('Number of Words')\n",
        "    plt.ylabel('Frequency')\n",
        "    plt.legend()\n",
        "    plt.show()\n",
        "\n",
        "plot_combined_email_length_histogram()"
      ],
      "metadata": {
        "colab": {
          "base_uri": "https://localhost:8080/",
          "height": 214
        },
        "id": "uFUodubQ47jz",
        "outputId": "38728225-8568-4d5e-f0e0-7ac09f39a0b7"
      },
      "id": "uFUodubQ47jz",
      "execution_count": null,
      "outputs": [
        {
          "output_type": "display_data",
          "data": {
            "text/plain": [
              "<Figure size 1000x600 with 1 Axes>"
            ],
            "image/png": "[encoded data removed]"
          },
          "metadata": {}
        }
      ]
    }
  ],
  "metadata": {
    "kernelspec": {
      "display_name": "Python 3 (ipykernel)",
      "language": "python",
      "name": "python3"
    },
    "language_info": {
      "codemirror_mode": {
        "name": "ipython",
        "version": 3
      },
      "file_extension": ".py",
      "mimetype": "text/x-python",
      "name": "python",
      "nbconvert_exporter": "python",
      "pygments_lexer": "ipython3",
      "version": "3.12.0"
    },
    "colab": {
      "provenance": [],
      "include_colab_link": true
    },
    "widgets": {
      "application/vnd.jupyter.widget-state+json": {
        "ed060ef9d5684cc8b037c87a00ee7e00": {
          "model_module": "@jupyter-widgets/controls",
          "model_name": "TextareaModel",
          "model_module_version": "1.5.0",
          "state": {
            "_dom_classes": [],
            "_model_module": "@jupyter-widgets/controls",
            "_model_module_version": "1.5.0",
            "_model_name": "TextareaModel",
            "_view_count": null,
            "_view_module": "@jupyter-widgets/controls",
            "_view_module_version": "1.5.0",
            "_view_name": "TextareaView",
            "continuous_update": true,
            "description": "",
            "description_tooltip": null,
            "disabled": false,
            "layout": "IPY_MODEL_0367198da1294c4782c2709cb9746c8a",
            "placeholder": "Type or paste the email content here...",
            "rows": null,
            "style": "IPY_MODEL_68588bdd7cb444c98937d37f0b9076a1",
            "value": ""
          }
        },
        "0367198da1294c4782c2709cb9746c8a": {
          "model_module": "@jupyter-widgets/base",
          "model_name": "LayoutModel",
          "model_module_version": "1.2.0",
          "state": {
            "_model_module": "@jupyter-widgets/base",
            "_model_module_version": "1.2.0",
            "_model_name": "LayoutModel",
            "_view_count": null,
            "_view_module": "@jupyter-widgets/base",
            "_view_module_version": "1.2.0",
            "_view_name": "LayoutView",
            "align_content": null,
            "align_items": null,
            "align_self": null,
            "border": null,
            "bottom": null,
            "display": null,
            "flex": null,
            "flex_flow": null,
            "grid_area": null,
            "grid_auto_columns": null,
            "grid_auto_flow": null,
            "grid_auto_rows": null,
            "grid_column": null,
            "grid_gap": null,
            "grid_row": null,
            "grid_template_areas": null,
            "grid_template_columns": null,
            "grid_template_rows": null,
            "height": "200px",
            "justify_content": null,
            "justify_items": null,
            "left": null,
            "margin": null,
            "max_height": null,
            "max_width": null,
            "min_height": null,
            "min_width": null,
            "object_fit": null,
            "object_position": null,
            "order": null,
            "overflow": null,
            "overflow_x": null,
            "overflow_y": null,
            "padding": null,
            "right": null,
            "top": null,
            "visibility": null,
            "width": "400px"
          }
        },
        "68588bdd7cb444c98937d37f0b9076a1": {
          "model_module": "@jupyter-widgets/controls",
          "model_name": "DescriptionStyleModel",
          "model_module_version": "1.5.0",
          "state": {
            "_model_module": "@jupyter-widgets/controls",
            "_model_module_version": "1.5.0",
            "_model_name": "DescriptionStyleModel",
            "_view_count": null,
            "_view_module": "@jupyter-widgets/base",
            "_view_module_version": "1.2.0",
            "_view_name": "StyleView",
            "description_width": ""
          }
        },
        "bdd6b47e2ee7488ea7827a1c4e4933dc": {
          "model_module": "@jupyter-widgets/controls",
          "model_name": "ButtonModel",
          "model_module_version": "1.5.0",
          "state": {
            "_dom_classes": [],
            "_model_module": "@jupyter-widgets/controls",
            "_model_module_version": "1.5.0",
            "_model_name": "ButtonModel",
            "_view_count": null,
            "_view_module": "@jupyter-widgets/controls",
            "_view_module_version": "1.5.0",
            "_view_name": "ButtonView",
            "button_style": "info",
            "description": "Classify Email",
            "disabled": false,
            "icon": "",
            "layout": "IPY_MODEL_8803d752b9eb4993b91bb8ce7a2136a6",
            "style": "IPY_MODEL_a571abfe939544ea83baa450baa690f3",
            "tooltip": ""
          }
        },
        "8803d752b9eb4993b91bb8ce7a2136a6": {
          "model_module": "@jupyter-widgets/base",
          "model_name": "LayoutModel",
          "model_module_version": "1.2.0",
          "state": {
            "_model_module": "@jupyter-widgets/base",
            "_model_module_version": "1.2.0",
            "_model_name": "LayoutModel",
            "_view_count": null,
            "_view_module": "@jupyter-widgets/base",
            "_view_module_version": "1.2.0",
            "_view_name": "LayoutView",
            "align_content": null,
            "align_items": null,
            "align_self": null,
            "border": null,
            "bottom": null,
            "display": null,
            "flex": null,
            "flex_flow": null,
            "grid_area": null,
            "grid_auto_columns": null,
            "grid_auto_flow": null,
            "grid_auto_rows": null,
            "grid_column": null,
            "grid_gap": null,
            "grid_row": null,
            "grid_template_areas": null,
            "grid_template_columns": null,
            "grid_template_rows": null,
            "height": null,
            "justify_content": null,
            "justify_items": null,
            "left": null,
            "margin": null,
            "max_height": null,
            "max_width": null,
            "min_height": null,
            "min_width": null,
            "object_fit": null,
            "object_position": null,
            "order": null,
            "overflow": null,
            "overflow_x": null,
            "overflow_y": null,
            "padding": null,
            "right": null,
            "top": null,
            "visibility": null,
            "width": null
          }
        },
        "a571abfe939544ea83baa450baa690f3": {
          "model_module": "@jupyter-widgets/controls",
          "model_name": "ButtonStyleModel",
          "model_module_version": "1.5.0",
          "state": {
            "_model_module": "@jupyter-widgets/controls",
            "_model_module_version": "1.5.0",
            "_model_name": "ButtonStyleModel",
            "_view_count": null,
            "_view_module": "@jupyter-widgets/base",
            "_view_module_version": "1.2.0",
            "_view_name": "StyleView",
            "button_color": null,
            "font_weight": ""
          }
        },
        "d4fd990ef25840888aac97f9da591455": {
          "model_module": "@jupyter-widgets/controls",
          "model_name": "LabelModel",
          "model_module_version": "1.5.0",
          "state": {
            "_dom_classes": [],
            "_model_module": "@jupyter-widgets/controls",
            "_model_module_version": "1.5.0",
            "_model_name": "LabelModel",
            "_view_count": null,
            "_view_module": "@jupyter-widgets/controls",
            "_view_module_version": "1.5.0",
            "_view_name": "LabelView",
            "description": "",
            "description_tooltip": null,
            "layout": "IPY_MODEL_d04f5e3d745d4109a077951d292ed5f6",
            "placeholder": "​",
            "style": "IPY_MODEL_6742aa80f4ce459dbd0fe655dac9eb4e",
            "value": ""
          }
        },
        "d04f5e3d745d4109a077951d292ed5f6": {
          "model_module": "@jupyter-widgets/base",
          "model_name": "LayoutModel",
          "model_module_version": "1.2.0",
          "state": {
            "_model_module": "@jupyter-widgets/base",
            "_model_module_version": "1.2.0",
            "_model_name": "LayoutModel",
            "_view_count": null,
            "_view_module": "@jupyter-widgets/base",
            "_view_module_version": "1.2.0",
            "_view_name": "LayoutView",
            "align_content": null,
            "align_items": null,
            "align_self": null,
            "border": null,
            "bottom": null,
            "display": null,
            "flex": null,
            "flex_flow": null,
            "grid_area": null,
            "grid_auto_columns": null,
            "grid_auto_flow": null,
            "grid_auto_rows": null,
            "grid_column": null,
            "grid_gap": null,
            "grid_row": null,
            "grid_template_areas": null,
            "grid_template_columns": null,
            "grid_template_rows": null,
            "height": null,
            "justify_content": null,
            "justify_items": null,
            "left": null,
            "margin": null,
            "max_height": null,
            "max_width": null,
            "min_height": null,
            "min_width": null,
            "object_fit": null,
            "object_position": null,
            "order": null,
            "overflow": null,
            "overflow_x": null,
            "overflow_y": null,
            "padding": null,
            "right": null,
            "top": null,
            "visibility": null,
            "width": null
          }
        },
        "6742aa80f4ce459dbd0fe655dac9eb4e": {
          "model_module": "@jupyter-widgets/controls",
          "model_name": "DescriptionStyleModel",
          "model_module_version": "1.5.0",
          "state": {
            "_model_module": "@jupyter-widgets/controls",
            "_model_module_version": "1.5.0",
            "_model_name": "DescriptionStyleModel",
            "_view_count": null,
            "_view_module": "@jupyter-widgets/base",
            "_view_module_version": "1.2.0",
            "_view_name": "StyleView",
            "description_width": ""
          }
        }
      }
    }
  },
  "nbformat": 4,
  "nbformat_minor": 5
}